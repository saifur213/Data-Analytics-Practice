{
  "nbformat": 4,
  "nbformat_minor": 0,
  "metadata": {
    "colab": {
      "provenance": []
    },
    "kernelspec": {
      "name": "python3",
      "display_name": "Python 3"
    },
    "language_info": {
      "name": "python"
    }
  },
  "cells": [
    {
      "cell_type": "code",
      "execution_count": 11,
      "metadata": {
        "colab": {
          "base_uri": "https://localhost:8080/"
        },
        "id": "f5nzrc46j583",
        "outputId": "1f62fc14-2904-4211-9543-fd10a84e3403"
      },
      "outputs": [
        {
          "output_type": "stream",
          "name": "stdout",
          "text": [
            "[ 5 10 12 15 18 20 25 30 30 32 35 45]\n"
          ]
        }
      ],
      "source": [
        "import numpy as np\n",
        "\n",
        "age = np.array([5,10,12,15,18,20,25,30,30,32,35,45])\n",
        "print(age)"
      ]
    },
    {
      "cell_type": "code",
      "source": [
        "mean = np.mean(age)\n",
        "print(mean)"
      ],
      "metadata": {
        "colab": {
          "base_uri": "https://localhost:8080/"
        },
        "id": "VpTTPUsQkIIC",
        "outputId": "e3f7c401-4778-4aa9-850c-4ee3031b93ed"
      },
      "execution_count": 12,
      "outputs": [
        {
          "output_type": "stream",
          "name": "stdout",
          "text": [
            "23.083333333333332\n"
          ]
        }
      ]
    },
    {
      "cell_type": "code",
      "source": [
        "median = np.median(age)\n",
        "print(median)"
      ],
      "metadata": {
        "colab": {
          "base_uri": "https://localhost:8080/"
        },
        "id": "UPiQW9ogkNm5",
        "outputId": "4603e252-3990-4a20-9456-84ffe304e3b2"
      },
      "execution_count": 13,
      "outputs": [
        {
          "output_type": "stream",
          "name": "stdout",
          "text": [
            "22.5\n"
          ]
        }
      ]
    },
    {
      "cell_type": "code",
      "source": [
        "from scipy import stats\n",
        "mode = stats.mode(age)\n",
        "print(mode)"
      ],
      "metadata": {
        "colab": {
          "base_uri": "https://localhost:8080/"
        },
        "id": "JAERAoYakdQi",
        "outputId": "aa02c4d8-1570-4fbc-c172-41876d78d33b"
      },
      "execution_count": 14,
      "outputs": [
        {
          "output_type": "stream",
          "name": "stdout",
          "text": [
            "ModeResult(mode=array([30]), count=array([2]))\n"
          ]
        },
        {
          "output_type": "stream",
          "name": "stderr",
          "text": [
            "<ipython-input-14-bcb842721cf3>:2: FutureWarning: Unlike other reduction functions (e.g. `skew`, `kurtosis`), the default behavior of `mode` typically preserves the axis it acts along. In SciPy 1.11.0, this behavior will change: the default value of `keepdims` will become False, the `axis` over which the statistic is taken will be eliminated, and the value None will no longer be accepted. Set `keepdims` to True or False to avoid this warning.\n",
            "  mode = stats.mode(age)\n"
          ]
        }
      ]
    },
    {
      "cell_type": "code",
      "source": [
        "sd = np.std(age)\n",
        "print(sd)"
      ],
      "metadata": {
        "colab": {
          "base_uri": "https://localhost:8080/"
        },
        "id": "ifxhpcDalDPC",
        "outputId": "cafe8e23-3db2-4af3-d523-feba02052d7c"
      },
      "execution_count": 15,
      "outputs": [
        {
          "output_type": "stream",
          "name": "stdout",
          "text": [
            "11.265421528829812\n"
          ]
        }
      ]
    },
    {
      "cell_type": "code",
      "source": [
        "zscore = stats.zscore(age)\n",
        "print(zscore)\n"
      ],
      "metadata": {
        "colab": {
          "base_uri": "https://localhost:8080/"
        },
        "id": "rgs9hUB9lOSS",
        "outputId": "906b8a97-65d0-4978-dfd3-9febd4d0238f"
      },
      "execution_count": 16,
      "outputs": [
        {
          "output_type": "stream",
          "name": "stdout",
          "text": [
            "[-1.60520699 -1.16137095 -0.98383654 -0.71753492 -0.4512333  -0.27369889\n",
            "  0.17013715  0.61397318  0.61397318  0.79150759  1.05780921  1.94548128]\n"
          ]
        }
      ]
    },
    {
      "cell_type": "code",
      "source": [
        "import matplotlib.pyplot as plt\n",
        "fig = plt.figure()\n",
        "plt.hist(age, bins =5)\n",
        "plt.show()\n",
        "fig.savefig(\"age.png\")"
      ],
      "metadata": {
        "colab": {
          "base_uri": "https://localhost:8080/",
          "height": 430
        },
        "id": "pDrGsJ8qlXp0",
        "outputId": "d7e352d1-b9d9-4eef-efe3-093602043fd2"
      },
      "execution_count": 21,
      "outputs": [
        {
          "output_type": "display_data",
          "data": {
            "text/plain": [
              "<Figure size 640x480 with 1 Axes>"
            ],
            "image/png": "[encoded data removed]"
          },
          "metadata": {}
        }
      ]
    },
    {
      "cell_type": "code",
      "source": [
        "import smtplib\n",
        "from email.mime.multipart import MIMEMultipart\n",
        "from email.mime.text import MIMEText\n",
        "from email.mime.image import MIMEImage\n",
        "from email import encoders\n",
        "\n",
        "# Email configuration\n",
        "sender_email = 'sr.saifur19@gmail.com'\n",
        "sender_password = 'afsckmjuwzbrcvbq'\n",
        "receiver_email = 'almehady@gmail.com'\n",
        "subject = 'Histogram Email'\n",
        "message = 'Please find the histogram attached.'\n",
        "\n",
        "# Create the email message\n",
        "msg = MIMEMultipart()\n",
        "msg['From'] = sender_email\n",
        "msg['To'] = receiver_email\n",
        "msg['Subject'] = subject\n",
        "msg.attach(MIMEText(message, 'plain'))\n",
        "\n",
        "# Attach the histogram.png file\n",
        "with open('/content/age.png', 'rb') as file:\n",
        "    image = MIMEImage(file.read(), name='age.png')\n",
        "    msg.attach(image)\n",
        "\n",
        "# Connect to the SMTP server and send the email\n",
        "with smtplib.SMTP(host='smtp.gmail.com', port=587) as server:\n",
        "    server.starttls()\n",
        "    server.login(sender_email, sender_password)\n",
        "    server.send_message(msg)\n",
        "\n",
        "print('Email sent successfully!')"
      ],
      "metadata": {
        "colab": {
          "base_uri": "https://localhost:8080/"
        },
        "id": "W5za9lt48kf8",
        "outputId": "c12ca04e-945c-45fa-82c9-c4a781f927f3"
      },
      "execution_count": 43,
      "outputs": [
        {
          "output_type": "stream",
          "name": "stdout",
          "text": [
            "Email sent successfully!\n"
          ]
        }
      ]
    }
  ]
}