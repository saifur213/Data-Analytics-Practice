{
  "nbformat": 4,
  "nbformat_minor": 0,
  "metadata": {
    "colab": {
      "provenance": []
    },
    "kernelspec": {
      "name": "python3",
      "display_name": "Python 3"
    },
    "language_info": {
      "name": "python"
    }
  },
  "cells": [
    {
      "cell_type": "markdown",
      "source": [
        "# Import Library"
      ],
      "metadata": {
        "id": "5dgTXfpLBaZl"
      }
    },
    {
      "cell_type": "code",
      "source": [
        "import requests\n",
        "from bs4 import BeautifulSoup\n",
        "import csv\n",
        "import pandas as pd"
      ],
      "metadata": {
        "id": "Azp3pzzMF1cb"
      },
      "execution_count": 1,
      "outputs": []
    },
    {
      "cell_type": "markdown",
      "source": [
        "# set URL"
      ],
      "metadata": {
        "id": "-1_8w2j4BgTw"
      }
    },
    {
      "cell_type": "code",
      "source": [
        "url = \"https://www.dsebd.org/company_listing.php\"\n",
        "page = requests.get(url)\n",
        "soup = BeautifulSoup(page.content, \"html.parser\")"
      ],
      "metadata": {
        "id": "9fjxOpCcxgxP"
      },
      "execution_count": 2,
      "outputs": []
    },
    {
      "cell_type": "markdown",
      "source": [
        "# Scrap Company Tradin Code"
      ],
      "metadata": {
        "id": "48qdc-AjBmN9"
      }
    },
    {
      "cell_type": "code",
      "source": [
        "all_body_content = soup.find_all(\"div\", {\"class\": \"BodyContent\"})"
      ],
      "metadata": {
        "id": "aQiwm7W_xpoI"
      },
      "execution_count": 3,
      "outputs": []
    },
    {
      "cell_type": "code",
      "source": [
        "company_list = []\n",
        "\n",
        "for com in all_body_content:\n",
        "  code = com.find_all(\"a\")\n",
        "  for only_code in code:\n",
        "    #print(only_code.text.strip())\n",
        "    company_list.append(only_code.text.strip())"
      ],
      "metadata": {
        "id": "XLVcY3DrzDG3"
      },
      "execution_count": 4,
      "outputs": []
    },
    {
      "cell_type": "code",
      "source": [
        "print(company_list)"
      ],
      "metadata": {
        "colab": {
          "base_uri": "https://localhost:8080/"
        },
        "id": "Yi_2Goxs0iVY",
        "outputId": "e557853b-c7e9-45f1-9b17-32f621f7efd0"
      },
      "execution_count": 5,
      "outputs": [
        {
          "output_type": "stream",
          "name": "stdout",
          "text": [
            "['AAMRANET', 'AAMRATECH', 'ABB1STMF', 'ABBANK', 'ACFL', 'ACI', 'ACIFORMULA', 'ACMELAB', 'ACMEPL', 'ACTIVEFINE', 'ADNTEL', 'ADVENT', 'AFCAGRO', 'AFTABAUTO', 'AGNISYSL', 'AGRANINS', 'AIBL1STIMF', 'AIBLPBOND', 'AIL', 'AL-HAJTEX', 'ALARABANK', 'ALIF', 'ALLTEX', 'AMANFEED', 'AMBEEPHA', 'AMCL(PRAN)', 'ANLIMAYARN', 'ANWARGALV', 'AOL', 'APEXFOODS', 'APEXFOOT', 'APEXSPINN', 'APEXTANRY', 'APOLOISPAT', 'APSCLBOND', 'ARAMIT', 'ARAMITCEM', 'ARGONDENIM', 'ASIAINS', 'ASIAPACINS', 'ATCSLGF', 'More...', 'ATLASBANG', 'AZIZPIPES', 'BANGAS', 'BANKASIA', 'BARKAPOWER', 'BATASHOE', 'BATBC', 'BAYLEASING', 'BBS', 'BBSCABLES', 'BDAUTOCA', 'BDCOM', 'BDFINANCE', 'BDLAMPS', 'BDSERVICE', 'BDTHAI', 'BDTHAIFOOD', 'BDWELDING', 'BEACHHATCH', 'BEACONPHAR', 'BENGALWTL', 'BERGERPBL', 'BEXGSUKUK', 'BEXIMCO', 'BGIC', 'BIFC', 'BNICL', 'BPML', 'BPPL', 'BRACBANK', 'BSC', 'BSCCL', 'BSRMLTD', 'BSRMSTEEL', 'BXPHARMA', 'BXSYNTH', 'CAPMBDBLMF', 'CAPMIBBLMF', 'CBLPBOND', 'CENTRALINS', 'CENTRALPHL', 'CITYBANK', 'CITYGENINS', 'CLICL', 'CNATEX', 'CONFIDCEM', 'CONTININS', 'COPPERTECH', 'CROWNCEMNT', 'CRYSTALINS', 'CVOPRL', 'DACCADYE', 'DAFODILCOM', 'DBH', 'DBH1STMF', 'DBLPBOND', 'DEBARACEM', 'DEBBDLUGG', 'DEBBDWELD', 'DEBBDZIPP', 'DEBBXDENIM', 'DEBBXFISH', 'DEBBXKNI', 'DEBBXTEX', 'DELTALIFE', 'DELTASPINN', 'DESCO', 'DESHBANDHU', 'DGIC', 'DHAKABANK', 'DHAKAINS', 'DOMINAGE', 'DOREENPWR', 'DSHGARME', 'DSSL', 'DULAMIACOT', 'DUTCHBANGL', 'EASTERNINS', 'EASTLAND', 'EASTRNLUB', 'EBL', 'EBL1STMF', 'EBLNRBMF', 'ECABLES', 'EGEN', 'EHL', 'EIL', 'EMERALDOIL', 'ENVOYTEX', 'EPGL', 'ESQUIRENIT', 'ETL', 'EXIM1STMF', 'EXIMBANK', 'FAMILYTEX', 'FARCHEM', 'FAREASTFIN', 'FAREASTLIF', 'FASFIN', 'FBFIF', 'FEDERALINS', 'FEKDIL', 'FINEFOODS', 'FIRSTFIN', 'FIRSTSBANK', 'FORTUNE', 'FUWANGCER', 'FUWANGFOOD', 'GBBPOWER', 'GEMINISEA', 'GENEXIL', 'GENNEXT', 'GHAIL', 'GHCL', 'GIB', 'GLDNJMF', 'GLOBALINS', 'GOLDENSON', 'GP', 'GPHISPAT', 'GQBALLPEN', 'GRAMEENS2', 'GREENDELMF', 'GREENDELT', 'GSPFINANCE', 'HAKKANIPUL', 'HEIDELBCEM', 'HFL', 'HRTEX', 'HWAWELLTEX', 'IBBL2PBOND', 'IBBLPBOND', 'IBNSINA', 'IBP', 'ICB', 'ICB3RDNRB', 'ICBAGRANI1', 'ICBAMCL2ND', 'ICBEPMF1S1', 'ICBIBANK', 'ICBSONALI1', 'ICICL', 'IDLC', 'IFADAUTOS', 'IFIC', 'IFIC1STMF', 'IFILISLMF1', 'ILFSL', 'IMAMBUTTON', 'INDEXAGRO', 'INTECH', 'INTRACO', 'IPDC', 'ISLAMIBANK', 'ISLAMICFIN', 'ISLAMIINS', 'ISNLTD', 'ITC', 'JAMUNABANK', 'JAMUNAOIL', 'JANATAINS', 'JHRML', 'JMISMDL', 'JUTESPINN', 'KARNAPHULI', 'KAY&QUE', 'KBPPWBIL', 'KDSALTD', 'KEYACOSMET', 'KOHINOOR', 'KPCL', 'KPPL', 'KTL', 'LANKABAFIN', 'LEGACYFOOT', 'LHBL', 'LIBRAINFU', 'LINDEBD', 'LOVELLO', 'LRBDL', 'LRGLOBMF1', 'MAKSONSPIN', 'MALEKSPIN', 'MARICO', 'MATINSPINN', 'MBL1STMF', 'MEGCONMILK', 'MEGHNACEM', 'MEGHNAINS', 'MEGHNALIFE', 'MEGHNAPET', 'MERCANBANK', 'MERCINS', 'METROSPIN', 'MHSML', 'MIDASFIN', 'MIDLANDBNK', 'MIRACLEIND', 'MIRAKHTER', 'MITHUNKNIT', 'MJLBD', 'MLDYEING', 'MONNOAGML', 'MONNOCERA', 'MONNOFABR', 'MONOSPOOL', 'MPETROLEUM', 'MTB', 'NAHEEACP', 'NATLIFEINS', 'NAVANACNG', 'NAVANAPHAR', 'NBL', 'NCCBANK', 'NCCBLMF1', 'NEWLINE', 'NFML', 'NHFIL', 'NITOLINS', 'NORTHERN', 'NORTHRNINS', 'NPOLYMER', 'NRBCBANK', 'NTC', 'NTLTUBES', 'NURANI', 'OAL', 'OIMEX', 'OLYMPIC', 'ONEBANKLTD', 'ORIONINFU', 'ORIONPHARM', 'PADMALIFE', 'PADMAOIL', 'PAPERPROC', 'PARAMOUNT', 'PBLPBOND', 'PDL', 'PENINSULA', 'PEOPLESINS', 'PF1STMF', 'PHARMAID', 'PHENIXINS', 'PHOENIXFIN', 'PHPMF1', 'PIONEERINS', 'PLFSL', 'POPULAR1MF', 'POPULARLIF', 'POWERGRID', 'PRAGATIINS', 'PRAGATILIF', 'PREBPBOND', 'PREMIERBAN', 'PREMIERCEM', 'PREMIERLEA', 'PRIME1ICBA', 'PRIMEBANK', 'PRIMEFIN', 'PRIMEINSUR', 'PRIMELIFE', 'PRIMETEX', 'PROGRESLIF', 'PROVATIINS', 'PTL', 'PUBALIBANK', 'PURABIGEN', 'QUASEMIND', 'QUEENSOUTH', 'RAHIMAFOOD', 'RAHIMTEXT', 'RAKCERAMIC', 'RANFOUNDRY', 'RDFOOD', 'RECKITTBEN', 'REGENTTEX', 'RELIANCE1', 'RELIANCINS', 'RENATA', 'RENWICKJA', 'REPUBLIC', 'RINGSHINE', 'RNSPIN', 'ROBI', 'RSRMSTEEL', 'RUNNERAUTO', 'RUPALIBANK', 'RUPALIINS', 'RUPALILIFE', 'SAFKOSPINN', 'SAIFPOWER', 'SAIHAMCOT', 'SAIHAMTEX', 'SALAMCRST', 'SALVOCHEM', 'SAMATALETH', 'SAMORITA', 'SANDHANINS', 'SAPORTL', 'SAVAREFR', 'SBACBANK', 'SEAPEARL', 'SEMLFBSLGF', 'SEMLIBBLSF', 'SEMLLECMF', 'SHAHJABANK', 'SHASHADNIM', 'SHEPHERD', 'SHURWID', 'SHYAMPSUG', 'SIBL', 'SILCOPHL', 'SILVAPHL', 'SIMTEX', 'SINGERBD', 'SINOBANGLA', 'SJIBLPBOND', 'SKICL', 'SKTRIMS', 'SONALIANSH', 'SONALILIFE', 'SONALIPAPR', 'SONARBAINS', 'SONARGAON', 'SOUTHEASTB', 'SPCERAMICS', 'SPCL', 'SQUARETEXT', 'SQURPHARMA', 'SSSTEEL', 'More...', 'STANCERAM', 'STANDARINS', 'STANDBANKL', 'STYLECRAFT', 'SUMITPOWER', 'SUNLIFEINS', 'TAKAFULINS', 'TALLUSPIN', 'TAMIJTEX', 'TB10Y0126', 'TB10Y0127', 'TB10Y0130', 'TB10Y0132', 'TB10Y0231', 'TB10Y0324', 'TB10Y0425', 'TB10Y0429', 'TB10Y0530', 'TB10Y0531', 'TB10Y0532', 'TB10Y0628', 'TB10Y0629', 'TB10Y0630', 'TB10Y0632', 'TB10Y0723', 'TB10Y0724', 'TB10Y0726', 'TB10Y0730', 'TB10Y0731', 'TB10Y0825', 'TB10Y0829', 'TB10Y0932', 'TB10Y1027', 'TB10Y1030', 'TB10Y1031', 'TB10Y1123', 'TB10Y1124', 'TB10Y1128', 'TB10Y1229', 'TB10Y1232', 'TB15Y0124', 'TB15Y0125', 'TB15Y0127', 'TB15Y0128', 'TB15Y0129', 'TB15Y0224', 'TB15Y0225', 'More...', 'TB15Y0226', 'TB15Y0227', 'TB15Y0228', 'TB15Y0229', 'TB15Y0324', 'TB15Y0325', 'TB15Y0326', 'TB15Y0327', 'TB15Y0328', 'TB15Y0329', 'TB15Y0424', 'TB15Y0425', 'TB15Y0426', 'TB15Y0427', 'TB15Y0428', 'TB15Y0429', 'TB15Y0431', 'TB15Y0437', 'TB15Y0524', 'TB15Y0525', 'TB15Y0526', 'TB15Y0527', 'TB15Y0528', 'TB15Y0529', 'TB15Y0535', 'TB15Y0624', 'TB15Y0625', 'TB15Y0626', 'TB15Y0627', 'TB15Y0628', 'TB15Y0629', 'TB15Y0635', 'TB15Y0637', 'TB15Y0723', 'TB15Y0724', 'TB15Y0725', 'TB15Y0727', 'TB15Y0728', 'TB15Y0729', 'TB15Y0730', 'TB15Y0736', 'TB15Y0823', 'TB15Y0824', 'TB15Y0825', 'TB15Y0826', 'TB15Y0828', 'TB15Y0829', 'TB15Y0923', 'TB15Y0924', 'TB15Y0925', 'TB15Y0926', 'TB15Y0927', 'TB15Y0928', 'TB15Y0929', 'TB15Y0930', 'TB15Y0933', 'TB15Y1023', 'TB15Y1024', 'TB15Y1025', 'TB15Y1026', 'TB15Y1027', 'TB15Y1028', 'TB15Y1029', 'TB15Y1123', 'TB15Y1125', 'TB15Y1126', 'TB15Y1127', 'TB15Y1128', 'TB15Y1129', 'TB15Y1133', 'TB15Y1223', 'TB15Y1224', 'TB15Y1225', 'TB15Y1226', 'TB15Y1227', 'TB15Y1228', 'TB20Y0128', 'TB20Y0129', 'TB20Y0131', 'TB20Y0132', 'TB20Y0133', 'TB20Y0134', 'TB20Y0228', 'TB20Y0229', 'TB20Y0230', 'TB20Y0231', 'TB20Y0232', 'TB20Y0233', 'TB20Y0234', 'TB20Y0328', 'TB20Y0329', 'TB20Y0330', 'TB20Y0331', 'TB20Y0332', 'TB20Y0333', 'TB20Y0334', 'TB20Y0342', 'TB20Y0428', 'TB20Y0429', 'TB20Y0430', 'TB20Y0431', 'TB20Y0432', 'TB20Y0433', 'TB20Y0434', 'TB20Y0436', 'TB20Y0528', 'TB20Y0529', 'TB20Y0530', 'TB20Y0531', 'TB20Y0532', 'TB20Y0533', 'TB20Y0534', 'TB20Y0540', 'TB20Y0628', 'TB20Y0629', 'TB20Y0630', 'TB20Y0631', 'TB20Y0632', 'TB20Y0633', 'TB20Y0634', 'TB20Y0639', 'TB20Y0640', 'TB20Y0641', 'TB20Y0642', 'TB20Y0727', 'TB20Y0728', 'TB20Y0729', 'TB20Y0730', 'TB20Y0731', 'TB20Y0732', 'TB20Y0733', 'TB20Y0734', 'TB20Y0735', 'TB20Y0827', 'TB20Y0828', 'TB20Y0829', 'TB20Y0830', 'TB20Y0831', 'TB20Y0832', 'TB20Y0833', 'TB20Y0834', 'TB20Y0927', 'TB20Y0928', 'TB20Y0930', 'TB20Y0931', 'TB20Y0932', 'TB20Y0933', 'TB20Y0934', 'TB20Y1027', 'TB20Y1028', 'TB20Y1029', 'TB20Y1030', 'TB20Y1031', 'TB20Y1032', 'TB20Y1033', 'TB20Y1034', 'TB20Y1127', 'TB20Y1128', 'TB20Y1130', 'TB20Y1131', 'TB20Y1132', 'TB20Y1133', 'TB20Y1134', 'TB20Y1135', 'TB20Y1138', 'TB20Y1227', 'TB20Y1228', 'TB20Y1229', 'TB20Y1230', 'TB20Y1231', 'TB20Y1232', 'TB20Y1233', 'TB20Y1242', 'TB2Y0125', 'TB2Y0324', 'TB2Y0325', 'TB2Y0525', 'TB2Y0624', 'TB2Y0723', 'TB2Y0724', 'TB2Y0727', 'TB2Y0823', 'TB2Y1024', 'TB2Y1123', 'TB5Y0125', 'TB5Y0128', 'TB5Y0324', 'TB5Y0326', 'TB5Y0327', 'TB5Y0425', 'TB5Y0527', 'TB5Y0624', 'TB5Y0625', 'TB5Y0626', 'TB5Y0723', 'TB5Y0724', 'TB5Y0725', 'TB5Y0926', 'TB5Y1025', 'TB5Y1123', 'TB5Y1126', 'TB5Y1127', 'TB5Y1224', 'TB5Y1225', 'TILIL', 'TITASGAS', 'TOSRIFA', 'TRUSTB1MF', 'TRUSTBANK', 'TUNGHAI', 'UCB', 'UNILEVERCL', 'UNIONBANK', 'UNIONCAP', 'UNIONINS', 'UNIQUEHRL', 'UNITEDFIN', 'UNITEDINS', 'UPGDCL', 'USMANIAGL', 'UTTARABANK', 'UTTARAFIN', 'VAMLBDMF1', 'VAMLRBBF', 'VFSTDL', 'WALTONHIL', 'WATACHEM', 'WMSHIPYARD', 'YPL', 'ZAHEENSPIN', 'ZAHINTEX', 'ZEALBANGLA', '1JANATAMF', '1STPRIMFMF']\n"
          ]
        }
      ]
    },
    {
      "cell_type": "code",
      "source": [
        "company_list_df = pd.DataFrame(company_list)\n",
        "company_list_df = company_list_df.rename(columns={0: 'Company Code'})\n",
        "print(company_list_df)"
      ],
      "metadata": {
        "colab": {
          "base_uri": "https://localhost:8080/"
        },
        "id": "wkT1lmU81w13",
        "outputId": "1dcb6f99-44b4-4255-cb5b-4d7071e78bb8"
      },
      "execution_count": 6,
      "outputs": [
        {
          "output_type": "stream",
          "name": "stdout",
          "text": [
            "    Company Code\n",
            "0       AAMRANET\n",
            "1      AAMRATECH\n",
            "2       ABB1STMF\n",
            "3         ABBANK\n",
            "4           ACFL\n",
            "..           ...\n",
            "650   ZAHEENSPIN\n",
            "651     ZAHINTEX\n",
            "652   ZEALBANGLA\n",
            "653    1JANATAMF\n",
            "654   1STPRIMFMF\n",
            "\n",
            "[655 rows x 1 columns]\n"
          ]
        }
      ]
    },
    {
      "cell_type": "code",
      "source": [
        "file_path = '/content/company_list.csv'"
      ],
      "metadata": {
        "id": "k9MPqM8j1PP-"
      },
      "execution_count": 7,
      "outputs": []
    },
    {
      "cell_type": "code",
      "source": [
        "company_list_df.to_csv(file_path, index=False)"
      ],
      "metadata": {
        "id": "hkYIMb2S2xO3"
      },
      "execution_count": 8,
      "outputs": []
    },
    {
      "cell_type": "markdown",
      "source": [
        "# Scrap Company Details such as name,trading code,scrip code"
      ],
      "metadata": {
        "id": "ELk6ihE_Bq4W"
      }
    },
    {
      "cell_type": "code",
      "source": [
        "company_details = []\n",
        "for company in company_list:\n",
        "  row_data = []\n",
        "  com_url = \"https://www.dsebd.org/displayCompany.php?name=\"+company\n",
        "  page = requests.get(com_url)\n",
        "  #print(company)\n",
        "  soup = BeautifulSoup(page.content, \"html.parser\")\n",
        "  #print(soup)\n",
        "\n",
        "  compnay_name_h2 = soup.find('h2', {'class': 'BodyHead'})\n",
        "  #print(compnay_name_h2)\n",
        "  compnay_name = compnay_name_h2.text.strip()[compnay_name_h2.text.strip().find(\": \") + len(\": \"):]\n",
        "  row_data.append(compnay_name)\n",
        "  #print(compnay_name)\n",
        "\n",
        "  compnay_name_table = soup.find('table', {'class': 'shares-table'})\n",
        "  for row in compnay_name_table.find_all('tr'):\n",
        "    for cell in row.find_all(['th']):\n",
        "        index = cell.text.strip().find(\": \")\n",
        "        substring = cell.text.strip()[index + len(\": \"):]\n",
        "        row_data.append(substring)\n",
        "  company_details.append(row_data)\n",
        "  #print(row_data)\n",
        "  \n",
        "\n",
        "\n"
      ],
      "metadata": {
        "id": "Haq3mbb44mr-"
      },
      "execution_count": 35,
      "outputs": []
    },
    {
      "cell_type": "code",
      "source": [
        "print(company_details)"
      ],
      "metadata": {
        "colab": {
          "base_uri": "https://localhost:8080/"
        },
        "id": "_Ky_jrGE_ETm",
        "outputId": "4594a0ba-ff50-4973-8fd2-e35da8b49546"
      },
      "execution_count": 36,
      "outputs": [
        {
          "output_type": "stream",
          "name": "stdout",
          "text": [
            "[['aamra networks limited', 'AAMRANET', '22649'], ['aamra technologies limited', 'AAMRATECH', '22647'], ['AB Bank 1st Mutual fund', 'ABB1STMF', '12189'], ['AB Bank Limited', 'ABBANK', '11101'], ['Aman Cotton Fibrous Limited', 'ACFL', '17477'], ['ACI  Limited', 'ACI', '18455'], ['ACI Formulations Limited', 'ACIFORMULA', '18480'], ['The ACME Laboratories Limited', 'ACMELAB', '18491'], ['ACME Pesticides Limited', 'ACMEPL', '18496'], ['Active Fine Chemicals Limited', 'ACTIVEFINE', '18483'], ['ADN Telecom Limited', 'ADNTEL', '22651'], ['Advent Pharma Limited', 'ADVENT', '18492'], ['AFC Agro Biotech Ltd.', 'AFCAGRO', '18489'], ['Aftab Automobiles Limited', 'AFTABAUTO', '13201'], ['Agni Systems Ltd.', 'AGNISYSL', '22645'], ['Agrani Insurance Co. Ltd.', 'AGRANINS', '25722'], ['AIBL 1st Islamic Mutual Fund', 'AIBL1STIMF', '12183'], ['AIBL Mudaraba Perpetual Bond', 'AIBLPBOND', '26005'], ['Alif Industries Limited', 'AIL', '17436'], ['Al-Haj Textile Mills Limited', 'AL-HAJTEX', '17401'], ['Al-Arafah Islami Bank Ltd', 'ALARABANK', '11115'], ['Alif Manufacturing Company Ltd.', 'ALIF', '17444'], ['Alltex Industries Ltd.', 'ALLTEX', '17440'], ['Aman Feed Limited', 'AMANFEED', '99641'], ['Ambee Pharmaceuticals  Ltd.', 'AMBEEPHA', '18451'], ['Agricultural Marketing Company Ltd. (Pran)', 'AMCL(PRAN)', '14277'], ['Anlimayarn Dyeing Ltd.', 'ANLIMAYARN', '17441'], ['Anwar Galvanizing Ltd.', 'ANWARGALV', '13221'], ['Associated Oxygen Limited', 'AOL', '15321'], ['Apex Foods Limited', 'APEXFOODS', '14254'], ['Apex Footwear Limited.', 'APEXFOOT', '23619'], ['Apex Spinning & Knitting Mills Limited', 'APEXSPINN', '17421'], ['Apex Tannery Limited', 'APEXTANRY', '23601'], ['Appollo Ispat Complex Limited', 'APOLOISPAT', '13233'], ['APSCL Non-Convertible and Fully Redeemable Coupon Bearing Bond', 'APSCLBOND', '26004'], ['Aramit Limited', 'ARAMIT', '99602'], ['Aramit Cement Limited', 'ARAMITCEM', '21633'], ['Argon Denims Limited', 'ARGONDENIM', '17456'], ['Asia Insurance Limited', 'ASIAINS', '25740'], ['Asia Pacific General Insurance Co. Ltd.', 'ASIAPACINS', '25729'], ['Asian Tiger Sandhani Life Growth Fund', 'ATCSLGF', '12195'], ['ompany Name:', 'rading Code:', 'crip Code:'], ['Atlas Bangladesh Ltd.', 'ATLASBANG', '13212'], ['Aziz Pipes Ltd.', 'AZIZPIPES', '13202'], ['Bangas Ltd.', 'BANGAS', '14257'], ['Bank Asia Ltd.', 'BANKASIA', '11127'], ['Baraka Power Limited', 'BARKAPOWER', '15313'], ['Bata Shoe Company (Bangladesh) Limited', 'BATASHOE', '23603'], ['British American Tobacco Bangladesh Company Limited', 'BATBC', '14259'], ['Bay Leasing & Investment Limited', 'BAYLEASING', '11148'], ['Bangladesh Building Systems Ltd.', 'BBS', '13232'], ['BBS Cables Limited', 'BBSCABLES', '13242'], ['Bangladesh Autocars Ltd.', 'BDAUTOCA', '13213'], ['BDCOM Online Ltd.', 'BDCOM', '22643'], ['Bangladesh Finance Limited', 'BDFINANCE', '11142'], ['Bangladesh Lamps Limited', 'BDLAMPS', '13204'], ['Bangladesh Services Ltd.', 'BDSERVICE', '20552'], ['Bd.Thai Aluminium Ltd.', 'BDTHAI', '13219'], ['BD Thai Food & Beverage Limited', 'BDTHAIFOOD', '14297'], ['Bangladesh Welding Electrodes Ltd.', 'BDWELDING', '15305'], ['Beach Hatchery Ltd.', 'BEACHHATCH', '14291'], ['Beacon Pharmaceuticals PLC', 'BEACONPHAR', '18482'], ['Bengal Windsor Thermoplastics Ltd.', 'BENGALWTL', '13231'], ['Berger Paints Bangladesh Ltd.', 'BERGERPBL', '99638'], [\"Beximco Green Sukuk Al Istisna'a\", 'BEXGSUKUK', '26008'], ['Bangladesh Export Import Company Ltd.', 'BEXIMCO', '99613'], ['Bangladesh General Insurance Company Ltd.', 'BGIC', '25701'], ['Bangladesh Industrial Fin. Co. Ltd.', 'BIFC', '11136'], ['Bangladesh National Insurance Company Limited', 'BNICL', '25747'], ['Bashundhara Paper Mills Limited', 'BPML', '19512'], ['Baraka Patenga Power Limited', 'BPPL', '15324'], ['BRAC Bank Ltd.', 'BRACBANK', '11138'], ['Bangladesh Shipping Corporation', 'BSC', '99604'], ['Bangladesh Submarine Cable Company Limited', 'BSCCL', '27002'], ['Bangladesh Steel Re-Rolling Mills Limited', 'BSRMLTD', '13238'], ['BSRM Steels Limited', 'BSRMSTEEL', '13227'], ['Beximco Pharmaceuticals Ltd.', 'BXPHARMA', '18453'], ['Beximco Synthetics Ltd.', 'BXSYNTH', '18470'], ['CAPM BDBL Mutual Fund 01', 'CAPMBDBLMF', '12199'], ['CAPM IBBL Islamic Mutual Fund', 'CAPMIBBLMF', '12202'], ['City Bank Perpetual Bond', 'CBLPBOND', '26011'], ['Central Insurance Company Ltd.', 'CENTRALINS', '25709'], ['Central Pharmaceuticals Limited', 'CENTRALPHL', '18488'], ['The City Bank Ltd.', 'CITYBANK', '11102'], ['City General Insurance Co. Ltd.', 'CITYGENINS', '25734'], ['Chartered Life Insurance Company Limited', 'CLICL', '25755'], ['C & A Textiles Limited', 'CNATEX', '17465'], ['Confidence Cement Ltd.', 'CONFIDCEM', '21621'], ['Continental Insurance Ltd.', 'CONTININS', '25735'], ['Coppertech Industries Limited', 'COPPERTECH', '13247'], ['Crown Cement PLC.', 'CROWNCEMNT', '21644'], ['Crystal Insurance Company Limited', 'CRYSTALINS', '25749'], ['CVO Petrochemical Refinery Limited', 'CVOPRL', '14269'], ['The Dacca Dyeing & Manufacturing Co.Ltd.', 'DACCADYE', '17449'], ['Daffodil Computers Ltd.', 'DAFODILCOM', '22646'], ['DBH Finance PLC.', 'DBH', '20621'], ['DBH First Mutual Fund', 'DBH1STMF', '12174'], ['Dhaka Bank Perpetual Bond', 'DBLPBOND', '26012'], ['Aramit Cement Ltd.(Deb-14%)', 'DEBARACEM', '91633'], ['Bangladesh Luggage Ind. Ltd.(Deb-14%)', 'DEBBDLUGG', '91625'], ['BD Welding Electrodes Ltd.(Deb-15%)', 'DEBBDWELD', '91305'], ['Bangladesh Zipper Ind. Ltd.(Deb-14%)', 'DEBBDZIPP', '91432'], ['Beximco Denims Ltd.(Deb-14%)', 'DEBBXDENIM', '91433'], ['Beximco Fisheries Ltd.(Deb-14%)', 'DEBBXFISH', '91273'], ['Beximco Knitting Ltd.(Deb-14%)', 'DEBBXKNI', '91422'], ['Beximco Textiles Ltd.(Deb-14%)', 'DEBBXTEX', '91431'], ['Delta Life Insurance Company Ltd.', 'DELTALIFE', '25716'], ['Delta Spinners Ltd.', 'DELTASPINN', '17427'], ['Dhaka Electric Supply Company Ltd.', 'DESCO', '15307'], ['Deshbandhu Polymer Limited', 'DESHBANDHU', '13229'], ['Desh General Insurance Company Limited', 'DGIC', '25750'], ['Dhaka Bank Ltd.', 'DHAKABANK', '11118'], ['Dhaka Insurance Limited', 'DHAKAINS', '25744'], ['Dominage Steel Building Systems Limited', 'DOMINAGE', '13249'], ['Doreen Power Generations and Systems Limited', 'DOREENPWR', '15319'], ['Desh Garments Ltd.', 'DSHGARME', '17415'], ['Dragon Sweater and Spinning Limited', 'DSSL', '17471'], ['Dulamia Cotton Spinning Mills Ltd.', 'DULAMIACOT', '17416'], ['Dutch-Bangla Bank Ltd.', 'DUTCHBANGL', '11121'], ['Eastern Insurance Company Ltd.', 'EASTERNINS', '25705'], ['Eastland Insurance Company Ltd.', 'EASTLAND', '25708'], ['Eastern Lubricants Blenders Limited', 'EASTRNLUB', '15303'], ['Eastern Bank Ltd.', 'EBL', '11112'], ['EBL First Mutual Fund', 'EBL1STMF', '12169'], ['EBL NRB Mutual Fund', 'EBLNRBMF', '12186'], ['Eastern Cables Ltd.', 'ECABLES', '13206'], ['eGeneration Limited', 'EGEN', '22652'], ['Eastern Housing Limited', 'EHL', '20620'], ['Express Insurance Limited', 'EIL', '25748'], ['Emerald Oil Industries Ltd.', 'EMERALDOIL', '14295'], ['Envoy Textiles Limited', 'ENVOYTEX', '17455'], ['Energypac Power Generation Limited', 'EPGL', '15322'], ['Esquire Knit Composite PLC', 'ESQUIRENIT', '17481'], ['Evince Textiles Limited', 'ETL', '17472'], ['EXIM Bank 1st Mutual Fund', 'EXIM1STMF', '12194'], ['Export Import (Exim) Bank of Bangladesh Limited', 'EXIMBANK', '11129'], ['Familytex (BD) Limited', 'FAMILYTEX', '17457'], ['Far Chemical Industries Limited', 'FARCHEM', '18490'], ['Fareast Finance & Investment Limited', 'FAREASTFIN', '28023'], ['Fareast Islami Life Insurance Co. Ltd.', 'FAREASTLIF', '25725'], ['FAS Finance & Investment Limited', 'FASFIN', '11146'], ['First Bangladesh Fixed Income Fund', 'FBFIF', '12191'], ['Federal Insurance Company Ltd.', 'FEDERALINS', '25713'], ['Far East Knitting & Dyeing Industries Limited', 'FEKDIL', '17462'], ['Fine Foods Limited', 'FINEFOODS', '14292'], ['First Finance Limited', 'FIRSTFIN', '11124'], ['First Security Islami Bank Limited', 'FIRSTSBANK', '11147'], ['Fortune Shoes Limited', 'FORTUNE', '23637'], ['Fu-Wang Ceramic Industries Ltd.', 'FUWANGCER', '24632'], ['Fu Wang Food Ltd.', 'FUWANGFOOD', '14286'], ['GBB Power Ltd.', 'GBBPOWER', '15315'], ['Gemini Sea Food Ltd.', 'GEMINISEA', '14262'], ['Genex Infosys Limited', 'GENEXIL', '22650'], ['Generation Next Fashions Limited', 'GENNEXT', '17454'], ['Golden Harvest Agro Industries Ltd.', 'GHAIL', '14294'], ['Global Heavy Chemicals Limited', 'GHCL', '18485'], ['Global Islami Bank PLC', 'GIB', '11153'], ['ICB AMCL CMSF Golden Jubilee Mutual Fund', 'GLDNJMF', '12204'], ['Global Insurance Company Ltd.', 'GLOBALINS', '25723'], ['Golden Son Ltd.', 'GOLDENSON', '13226'], ['Grameenphone Ltd.', 'GP', '27001'], ['GPH Ispat Ltd.', 'GPHISPAT', '13230'], ['GQ Ball Pen Industries Ltd.', 'GQBALLPEN', '99605'], ['Grameen One : Scheme Two', 'GRAMEENS2', '12167'], ['Green Delta Mutual Fund', 'GREENDELMF', '12179'], ['Green Delta Insurance Ltd.', 'GREENDELT', '25702'], ['GSP Finance Company (Bangladesh) Limited', 'GSPFINANCE', '11149'], ['Hakkani Pulp & Paper Mills Ltd.', 'HAKKANIPUL', '19510'], ['Heidelberg Cement Bangladesh Ltd.', 'HEIDELBCEM', '21614'], ['Hamid Fabrics Limited', 'HFL', '17464'], ['H.R.Textile Ltd.', 'HRTEX', '17442'], ['Hwa Well Textiles (BD) Limited', 'HWAWELLTEX', '17461'], ['IBBL 2nd Perpetual Mudaraba Bond', 'IBBL2PBOND', '26006'], ['IBBL Mudaraba Perpetual Bond', 'IBBLPBOND', '26001'], ['The IBN SINA  Pharmaceutical Industry PLC', 'IBNSINA', '18464'], ['Indo-Bangla Pharmaceuticals Limited', 'IBP', '18494'], ['Investment Corporation Of Bangladesh', 'ICB', '12151'], ['ICB AMCL Third NRB Mutual Fund', 'ICB3RDNRB', '12177'], ['ICB AMCL First Agrani Bank Mutual Fund', 'ICBAGRANI1', '12201'], ['ICB AMCL Second Mutual Fund', 'ICBAMCL2ND', '12170'], ['ICB Employees Provident MF 1: Scheme 1', 'ICBEPMF1S1', '12171'], ['ICB Islamic Bank Limited', 'ICBIBANK', '11110'], ['ICB AMCL Sonali Bank Limited 1st Mutual Fund', 'ICBSONALI1', '12193'], ['Islami Commercial Insurance Company Limited', 'ICICL', '25756'], ['IDLC Finance Ltd.', 'IDLC', '11111'], ['IFAD Autos Limited', 'IFADAUTOS', '13237'], ['IFIC Bank PLC', 'IFIC', '11103'], ['IFIC Bank 1st Mutual Fund', 'IFIC1STMF', '12175'], ['IFIL Islamic Mutual Fund-1', 'IFILISLMF1', '12181'], ['International Leasing & Financial Services Ltd.', 'ILFSL', '11143'], ['Imam Button Industries Ltd.', 'IMAMBUTTON', '18474'], ['Index Agro Industries Limited', 'INDEXAGRO', '99643'], ['Intech  Limited', 'INTECH', '22644'], ['Intraco Refueling Station Limited', 'INTRACO', '15320'], ['IPDC Finance Limited', 'IPDC', '11137'], ['Islami Bank Bangladesh Limited', 'ISLAMIBANK', '11104'], ['Islamic Finance & Investment Ltd.', 'ISLAMICFIN', '11133'], ['Islami Insurance Bangladesh Limited', 'ISLAMIINS', '25742'], ['Information Services Network Ltd.', 'ISNLTD', '22641'], ['IT Consultants Limited', 'ITC', '22648'], ['Jamuna Bank Ltd.', 'JAMUNABANK', '11134'], ['Jamuna Oil Company Limited', 'JAMUNAOIL', '15309'], ['Janata Insurance Company Ltd.', 'JANATAINS', '25706'], ['JMI Hospital Requisite Manufacturing Limited', 'JHRML', '99644'], ['JMI Syringes & Medical Devices Ltd.', 'JMISMDL', '18487'], ['Jute Spinners Ltd.', 'JUTESPINN', '16355'], ['Karnaphuli Insurance Company Ltd.', 'KARNAPHULI', '25710'], ['Kay & Que (Bangladesh) Ltd.', 'KAY&QUE', '13222'], ['Khan Brothers PP Woven Bag Industries Limited', 'KBPPWBIL', '99639'], ['KDS Accessories Limited', 'KDSALTD', '13240'], ['Keya Cosmetics Ltd.', 'KEYACOSMET', '18477'], ['Kohinoor Chemicals Company (Bangladesh) Ltd.', 'KOHINOOR', '18463'], ['Khulna Power Company Limited', 'KPCL', '15312'], ['Khulna Printing & Packaging Limited', 'KPPL', '19511'], ['Kattali Textile Limited', 'KTL', '17480'], ['LankaBangla Finance PLC', 'LANKABAFIN', '11135'], ['Legacy Footwear Ltd.', 'LEGACYFOOT', '23636'], ['LafargeHolcim Bangladesh Limited', 'LHBL', '21643'], ['Libra Infusions Limited', 'LIBRAINFU', '18471'], ['Linde Bangladesh Limited', 'LINDEBD', '15301'], ['Taufika Foods and Lovello Ice-cream PLC', 'LOVELLO', '14296'], ['Lub-rref (Bangladesh) Limited', 'LRBDL', '15323'], ['LR Global Bangladesh Mutual Fund One', 'LRGLOBMF1', '12188'], ['Maksons Spinning Mills Limited', 'MAKSONSPIN', '17448'], ['Malek Spinning Mills Ltd.', 'MALEKSPIN', '17451'], ['Marico Bangladesh Limited', 'MARICO', '18481'], ['Matin Spinning Mills PLC', 'MATINSPINN', '17460'], ['MBL 1st Mutual Fund', 'MBL1STMF', '12184'], ['Meghna Condensed Milk Industries Ltd.', 'MEGCONMILK', '14290'], ['Meghna Cement Mills Ltd.', 'MEGHNACEM', '21622'], ['Meghna Insurance Company Limited', 'MEGHNAINS', '25754'], ['Meghna Life Insurance Co. Ltd.', 'MEGHNALIFE', '25726'], ['Meghna Pet Industries Ltd.', 'MEGHNAPET', '14287'], ['Mercantile Bank Ltd.', 'MERCANBANK', '11128'], ['Mercantile Islami Insurance PLC', 'MERCINS', '25721'], ['Metro Spinning Ltd.', 'METROSPIN', '17447'], ['Mozaffar Hossain Spinning Mills Ltd.', 'MHSML', '17459'], ['MIDAS Financing Ltd.', 'MIDASFIN', '11122'], ['Midland Bank Limited', 'MIDLANDBNK', '11154'], ['Miracle Industries Ltd.', 'MIRACLEIND', '99637'], ['Mir Akhter Hossain Limited', 'MIRAKHTER', '13250'], ['Mithun Knitting and Dyeing Ltd.', 'MITHUNKNIT', '17424'], ['MJL Bangladesh PLC.', 'MJLBD', '15314'], ['M.L. Dyeing Limited', 'MLDYEING', '17479'], ['Monno Agro & General Machinery Limited', 'MONNOAGML', '13209'], ['Monno Ceramic Industries Ltd.', 'MONNOCERA', '24606'], ['Monno Fabrics Limited', 'MONNOFABR', '17439'], ['Bangladesh Monospool Paper Manufacturing Co. Limited', 'MONOSPOOL', '19505'], ['Meghna Petroleum Limited', 'MPETROLEUM', '15310'], ['Mutual Trust Bank Ltd.', 'MTB', '11123'], ['Nahee Aluminum Composite Panel Ltd.', 'NAHEEACP', '13244'], ['National Life Insurance Company Ltd.', 'NATLIFEINS', '25712'], ['Navana CNG Limited', 'NAVANACNG', '13228'], ['Navana Pharmaceuticals Limited', 'NAVANAPHAR', '18497'], ['National Bank Ltd.', 'NBL', '11105'], ['National Credit and Commerce Bank Ltd.', 'NCCBANK', '11119'], ['NCCBL Mutual Fund-1', 'NCCBLMF1', '12192'], ['New Line Clothings Limited', 'NEWLINE', '17482'], ['National Feed Mill Limited', 'NFML', '99640'], ['National Housing Fin. and Inv. Ltd.', 'NHFIL', '20623'], ['Nitol Insurance Co. Ltd.', 'NITOLINS', '25727'], ['Northern Jute Manufacturing Co. Ltd.', 'NORTHERN', '16357'], ['Northern Islami Insurance Limited', 'NORTHRNINS', '25738'], ['National Polymer Industries PLC.', 'NPOLYMER', '13469'], ['NRB Commercial Bank Limited', 'NRBCBANK', '11150'], ['National Tea Company Ltd.', 'NTC', '14263'], ['National Tubes Limited', 'NTLTUBES', '13218'], ['Nurani Dyeing & Sweater Limited', 'NURANI', '17475'], ['Olympic Accessories Limited', 'OAL', '13239'], ['Oimex Electrode Limited', 'OIMEX', '13243'], ['Olympic Industries Ltd.', 'OLYMPIC', '13203'], ['One Bank Limited', 'ONEBANKLTD', '11126'], ['Orion Infusion Ltd.', 'ORIONINFU', '18472'], ['Orion Pharma Ltd.', 'ORIONPHARM', '18486'], ['Padma Islami Life Insurance Limited', 'PADMALIFE', '25745'], ['Padma Oil Co. Ltd.', 'PADMAOIL', '15302'], ['Paper Processing & Packaging Limited', 'PAPERPROC', '19506'], ['Paramount Insurance Company Ltd.', 'PARAMOUNT', '25733'], ['Pubali Bank Perpetual Bond', 'PBLPBOND', '26010'], ['Pacific Denims Limited', 'PDL', '17473'], ['The Peninsula Chittagong Limited', 'PENINSULA', '29003'], ['Peoples Insurance Company Ltd.', 'PEOPLESINS', '25704'], ['Phoenix Finance 1st Mutual Fund', 'PF1STMF', '12176'], ['Pharma Aids', 'PHARMAID', '18462'], ['Phoenix Insurance Company Ltd.', 'PHENIXINS', '25707'], ['Phoenix Finance and Investments Ltd.', 'PHOENIXFIN', '11144'], ['PHP First Mutual Fund', 'PHPMF1', '12182'], ['Pioneer Insurance Company Ltd.', 'PIONEERINS', '25720'], ['Peoples Leasing and Fin. Services Ltd.', 'PLFSL', '11130'], ['Popular Life First Mutual Fund', 'POPULAR1MF', '12180'], ['Popular Life Insurance Co. Ltd.', 'POPULARLIF', '25724'], ['Power Grid Company of Bangladesh Ltd.', 'POWERGRID', '15308'], ['Pragati Insurance Ltd', 'PRAGATIINS', '25717'], ['Pragati Life Insurance Ltd.', 'PRAGATILIF', '25731'], ['Premier Bank Perpetual Bond', 'PREBPBOND', '26009'], ['Premier Bank Ltd.', 'PREMIERBAN', '11140'], ['Premier Cement Mills PLC', 'PREMIERCEM', '21645'], ['Premier Leasing & Finance Limited', 'PREMIERLEA', '11132'], ['Prime Bank 1st ICB AMCL Mutual Fund', 'PRIME1ICBA', '12173'], ['Prime Bank Ltd.', 'PRIMEBANK', '11116'], ['Prime Finance & Investment Ltd.', 'PRIMEFIN', '11131'], ['Prime Insurance Company Ltd.', 'PRIMEINSUR', '25719'], ['Prime Islami Life Insurance Ltd.', 'PRIMELIFE', '25732'], ['Prime Textile Spinning Mills Limited', 'PRIMETEX', '17434'], ['Progressive Life Insurance Co. Ltd.', 'PROGRESLIF', '25728'], ['Provati Insurance Company Limited', 'PROVATIINS', '25743'], ['Paramount Textile Limited', 'PTL', '17458'], ['Pubali Bank Ltd.', 'PUBALIBANK', '11106'], ['Purabi Gen. Insurance Company Ltd.', 'PURABIGEN', '25715'], ['Quasem Industries Ltd.', 'QUASEMIND', '13214'], ['Queen South Textile Mills Limited', 'QUEENSOUTH', '17476'], ['Rahima Food Corporation Limited', 'RAHIMAFOOD', '14281'], ['Rahim Textile Mills Ltd.', 'RAHIMTEXT', '17410'], ['RAK Ceramics (Bangladesh) Limited', 'RAKCERAMIC', '24634'], ['Rangpur Foundry Ltd.', 'RANFOUNDRY', '13224'], ['Rangpur Dairy & Food Products Ltd.', 'RDFOOD', '14293'], ['Reckitt Benckiser (Bangladesh) PLC', 'RECKITTBEN', '18460'], ['Regent Textile Mills Limited', 'REGENTTEX', '17470'], ['Reliance One the first scheme of Reliance Insurance Mutual Fund', 'RELIANCE1', '12187'], ['Reliance Insurance Ltd.', 'RELIANCINS', '25714'], ['Renata Ltd.', 'RENATA', '18457'], ['Renwick Jajneswar & Co (Bd) Ltd.', 'RENWICKJA', '13215'], ['Republic Insurance Company Limited', 'REPUBLIC', '25739'], ['Ring Shine Textiles Limited', 'RINGSHINE', '17483'], ['R.N. Spinning Mills Limited', 'RNSPIN', '17450'], ['Robi Axiata Limited', 'ROBI', '27003'], ['Ratanpur Steel Re-Rolling Mills Limited', 'RSRMSTEEL', '13235'], ['Runner Automobiles PLC', 'RUNNERAUTO', '13246'], ['Rupali Bank Ltd.', 'RUPALIBANK', '11107'], ['Rupali Insurance Company Ltd.', 'RUPALIINS', '25711'], ['Rupali Life Insurance Company Limited', 'RUPALILIFE', '25741'], ['Safko Spinnings Mills Ltd.', 'SAFKOSPINN', '17445'], ['SAIF Powertec Limited', 'SAIFPOWER', '20625'], ['Saiham Cotton Mills Limited', 'SAIHAMCOT', '17453'], ['Saiham Textile Mills Ltd.', 'SAIHAMTEX', '17412'], ['S. Alam Cold Rolled Steels Ltd.', 'SALAMCRST', '13225'], ['Salvo Chemical Industry Limited', 'SALVOCHEM', '18484'], ['Samata Leather Complex Ltd.', 'SAMATALETH', '23634'], ['Samorita Hospital Limited', 'SAMORITA', '20553'], ['Sandhani Life Insurance Company Ltd.', 'SANDHANINS', '25718'], ['Summit Alliance Port Limited', 'SAPORTL', '20622'], ['Savar Refractories Limited', 'SAVAREFR', '99611'], ['South Bangla Agriculture & Commerce Bank Limited', 'SBACBANK', '11151'], ['Sea Pearl Beach Resort & Spa Limited', 'SEAPEARL', '29004'], ['SEML FBLSL Growth Fund', 'SEMLFBSLGF', '12203'], ['SEML IBBL Shariah Fund', 'SEMLIBBLSF', '12200'], ['SEML Lecture Equity Management Fund', 'SEMLLECMF', '12196'], ['Shahjalal Islami Bank Ltd.', 'SHAHJABANK', '11139'], ['Shasha Denims Limited', 'SHASHADNIM', '17466'], ['Shepherd Industries PLC', 'SHEPHERD', '17474'], ['Shurwid Industries Limited', 'SHURWID', '13234'], ['Shyampur Sugar Mills Ltd.', 'SHYAMPSUG', '14279'], ['Social Islami Bank Limited', 'SIBL', '11120'], ['Silco Pharmaceuticals Limited', 'SILCOPHL', '18495'], ['Silva Pharmaceuticals Limited', 'SILVAPHL', '18493'], ['Simtex Industries Limited', 'SIMTEX', '17469'], ['Singer Bangladesh Limited', 'SINGERBD', '13211'], ['Sinobangla Industries Ltd.', 'SINOBANGLA', '99635'], ['SJIBL Mudaraba Perpetual Bond', 'SJIBLPBOND', '26007'], ['Sena Kalyan Insurance Company Limited', 'SKICL', '25752'], ['SK Trims & Industries Limited', 'SKTRIMS', '99642'], ['Sonali Aansh Industries Limited', 'SONALIANSH', '16360'], ['Sonali Life Insurance Company Limited', 'SONALILIFE', '25751'], ['Sonali Paper & Board Mills Ltd.', 'SONALIPAPR', '19503'], ['Sonar Bangla Insurance Ltd.', 'SONARBAINS', '25730'], ['Sonargaon Textiles Ltd.', 'SONARGAON', '17430'], ['Southeast Bank Ltd.', 'SOUTHEASTB', '11117'], ['Shinepukur Ceramics Limited', 'SPCERAMICS', '24633'], ['Shahjibazar Power Co. Ltd.', 'SPCL', '15317'], ['Square Textiles Ltd.', 'SQUARETEXT', '17446'], ['Square Pharmaceuticals Ltd.', 'SQURPHARMA', '18473'], ['S. S. Steel Limited', 'SSSTEEL', '13245'], ['ompany Name:', 'rading Code:', 'crip Code:'], ['Standard Ceramic Industries Ltd.', 'STANCERAM', '24626'], ['Standard Insurance Limited', 'STANDARINS', '25737'], ['Standard Bank Limited', 'STANDBANKL', '11125'], ['Stylecraft Limited', 'STYLECRAFT', '17408'], ['Summit Power Limited', 'SUMITPOWER', '15306'], ['Sunlife Insurance Company Limited', 'SUNLIFEINS', '25746'], ['Takaful Islami Insurance Limited', 'TAKAFULINS', '25736'], ['Tallu Spinning Mills Ltd.', 'TALLUSPIN', '17417'], ['Tamijuddin Textile Mills PLC', 'TAMIJTEX', '17419'], ['10Y BGTB 20/01/2026', 'TB10Y0126', '88240', 'BD0926271109', ''], ['10Y BGTB 18/01/2027', 'TB10Y0127', '88323', 'BD0927251100', ''], ['10Y BGTB 22/01/2030', 'TB10Y0130', '88396', 'BD0930261104', ''], ['10Y BGTB 19/01/2032', 'TB10Y0132', '88431', 'BD0932691100', ''], ['10Y BGTB 17/02/2031', 'TB10Y0231', '88415', 'BD0931301107', ''], ['10Y BGTB 19/03/2024', 'TB10Y0324', '88271', 'BD0924351101', ''], ['10Y BGTB 22/04/2025', 'TB10Y0425', '88292', 'BD0925381107', ''], ['10Y BGTB 17/04/2029', 'TB10Y0429', '88377', 'BD0929311100', ''], ['10Y BGTB 07/05/2030', 'TB10Y0530', '88400', 'BD0930381100', ''], ['10Y BGTB 19/05/2031', 'TB10Y0531', '88420', 'BD0931401105', ''], ['10Y BGTB 25/05/2032', 'TB10Y0532', '88436', 'BD0932851100', ''], ['10Y BGTB 20/06/2028', 'TB10Y0628', '88356', 'BD0928331109', ''], ['10Y BGTB 19/06/2029', 'TB10Y0629', '88382', 'BD0929381103', ''], ['10Y BGTB 17/06/2030', 'TB10Y0630', '88402', 'BD0930431103', ''], ['10Y BGTB 22/06/2032', 'TB10Y0632', '88438', 'BD0932891106', ''], ['10Y BGTB 17/07/2023', 'TB10Y0723', '88256', 'BD0923031100', ''], ['10Y BGTB 16/07/2024', 'TB10Y0724', '88280', 'BD0924031109', ''], ['10Y BGTB 20/07/2026', 'TB10Y0726', '88315', 'BD0926021108', ''], ['10Y BGTB 22/07/2030', 'TB10Y0730', '88404', 'BD0930031101', ''], ['10Y BGTB 25/07/2031', 'TB10Y0731', '88423', 'BD0931481107', ''], ['10Y BGTB 19/08/2025', 'TB10Y0825', '88300', 'BD0925071104', ''], ['10Y BGTB 21/08/2029', 'TB10Y0829', '88387', 'BD0929061101', ''], ['10Y BGTB 21/09/2032', 'TB10Y0932', '88490', 'BD0932111109', ''], ['10Y BGTB 18/10/2027', 'TB10Y1027', '88339', 'BD0927101107', ''], ['10Y BGTB 21/10/2030', 'TB10Y1030', '88410', 'BD0930141108', ''], ['10Y BGTB 19/10/2031', 'TB10Y1031', '88427', 'BD0931561106', ''], ['10Y BGTB 20/11/2023', 'TB10Y1123', '88264', 'BD0923191102', ''], ['10Y BGTB 19/11/2024', 'TB10Y1124', '88284', 'BD0924191101', ''], ['10Y BGTB 22/11/2028', 'TB10Y1128', '88366', 'BD0928131103', ''], ['10Y BGTB 18/12/2029', 'TB10Y1229', '88394', 'BD0929221101', ''], ['10Y BGTB 21/12/2032', 'TB10Y1232', '88494', 'BD0932231105', ''], ['15Y BGTB 14/01/2024', 'TB15Y0124', '88266', 'BD0924261151', ''], ['15Y BGTB 13/01/2025', 'TB15Y0125', '88287', 'BD0925231153', ''], ['15Y BGTB 18/01/2027', 'TB15Y0127', '88324', 'BD0927271157', ''], ['15Y BGTB 16/01/2028', 'TB15Y0128', '88345', 'BD0928271156', ''], ['15Y BGTB 29/01/2029', 'TB15Y0129', '88372', 'BD0929281154', ''], ['15Y BGTB 11/02/2024', 'TB15Y0224', '88267', 'BD0924301155', ''], ['15Y BGTB 10/02/2025', 'TB15Y0225', '88289', 'BD0925261150', ''], ['ompany Name:', 'rading Code:', 'crip Code:'], ['15Y BGTB 09/02/2026', 'TB15Y0226', '88308', 'BD0926261159', ''], ['15Y BGTB 22/02/2027', 'TB15Y0227', '88325', 'BD0927311151', ''], ['15Y BGTB 20/02/2028', 'TB15Y0228', '88347', 'BD0928311150', ''], ['15Y BGTB 26/02/2029', 'TB15Y0229', '88374', 'BD0929321158', ''], ['15Y BGTB 11/03/2024', 'TB15Y0324', '88269', 'BD0924341151', ''], ['15Y BGTB 10/03/2025', 'TB15Y0325', '88290', 'BD0925301154', ''], ['15Y BGTB 09/03/2026', 'TB15Y0326', '88309', 'BD0926301153', ''], ['15Y BGTB 21/03/2027', 'TB15Y0327', '88327', 'BD0927351157', ''], ['15Y BGTB 20/03/2028', 'TB15Y0328', '88349', 'BD0928351156', ''], ['15Y BGTB 27/03/2029', 'TB15Y0329', '88376', 'BD0929361154', ''], ['15Y BGTB 15/04/2024', 'TB15Y0424', '88272', 'BD0924381157', ''], ['15Y BGTB 15/04/2025', 'TB15Y0425', '88291', 'BD0925341150', ''], ['15Y BGTB 13/04/2026', 'TB15Y0426', '88311', 'BD0926341159', ''], ['15Y BGTB 18/04/2027', 'TB15Y0427', '88328', 'BD0927391153', ''], ['15Y BGTB 17/04/2028', 'TB15Y0428', '88351', 'BD0928391152', ''], ['15Y BGTB 23/04/2029', 'TB15Y0429', '88378', 'BD0929401158', ''], ['15Y BGTB 27/04/2031', 'TB15Y0431', '88418', 'BD0931401154', ''], ['15Y BGTB 27/04/2037', 'TB15Y0437', '88477', 'BD0937821157', ''], ['15Y BGTB 13/05/2024', 'TB15Y0524', '88273', 'BD0924421151', ''], ['15Y BGTB 12/05/2025', 'TB15Y0525', '88294', 'BD0925381156', ''], ['15Y BGTB 11/05/2026', 'TB15Y0526', '88312', 'BD0926381155', ''], ['15Y BGTB 23/05/2027', 'TB15Y0527', '88330', 'BD0927431157', ''], ['15Y BGTB 22/05/2028', 'TB15Y0528', '88353', 'BD0928431156', ''], ['15Y BGTB 28/05/2029', 'TB15Y0529', '88381', 'BD0929441154', ''], ['15Y BGTB 13/05/2035', 'TB15Y0535', '88471', 'BD0935391153', ''], ['15Y BGTB 10/06/2024', 'TB15Y0624', '88275', 'BD0924461157', ''], ['15Y BGTB 09/06/2025', 'TB15Y0625', '88295', 'BD0925421150', ''], ['15Y BGTB 15/06/2026', 'TB15Y0626', '88313', 'BD0926421159', ''], ['15Y BGTB 20/06/2027', 'TB15Y0627', '88331', 'BD0927471153', ''], ['15Y BGTB 19/06/2028', 'TB15Y0628', '88355', 'BD0928471152', ''], ['15Y BGTB 25/06/2029', 'TB15Y0629', '88384', 'BD0929481150', ''], ['15Y BGTB 24/06/2035', 'TB15Y0635', '88472', 'BD0935441156', ''], ['15Y BGTB 29/06/2037', 'TB15Y0637', '88478', 'BD0937901157', ''], ['15Y BGTB 09/07/2023', 'TB15Y0723', '88254', 'BD0923021150', ''], ['15Y BGTB 15/07/2024', 'TB15Y0724', '88279', 'BD0924021159', ''], ['15Y BGTB 14/07/2025', 'TB15Y0725', '88297', 'BD0925021158', ''], ['15Y BGTB 18/07/2027', 'TB15Y0727', '88333', 'BD0927031155', ''], ['15Y BGTB 24/07/2028', 'TB15Y0728', '88359', 'BD0928041153', ''], ['15Y BGTB 23/07/2029', 'TB15Y0729', '88385', 'BD0929041152', ''], ['15Y BGTB 29/07/2030', 'TB15Y0730', '88406', 'BD0930041159', ''], ['15Y BGTB 28/07/2036', 'TB15Y0736', '88476', 'BD0936491150', ''], ['15Y BGTB 13/08/2023', 'TB15Y0823', '88258', 'BD0923061156', ''], ['15Y BGTB 12/08/2024', 'TB15Y0824', '88281', 'BD0924061155', ''], ['15Y BGTB 11/08/2025', 'TB15Y0825', '88299', 'BD0925061154', ''], ['15Y BGTB 17/08/2026', 'TB15Y0826', '88316', 'BD0926071152', ''], ['15Y BGTB 29/08/2028', 'TB15Y0828', '88361', 'BD0928081159', ''], ['15Y BGTB 27/08/2029', 'TB15Y0829', '88389', 'BD0929081158', ''], ['15Y BGTB 10/09/2023', 'TB15Y0923', '88259', 'BD0923101150', ''], ['15Y BGTB 09/09/2024', 'TB15Y0924', '88282', 'BD0924101159', ''], ['15Y BGTB 15/09/2025', 'TB15Y0925', '88301', 'BD0925101158', ''], ['15Y BGTB 21/09/2026', 'TB15Y0926', '88318', 'BD0926111156', ''], ['15Y BGTB 19/09/2027', 'TB15Y0927', '88336', 'BD0927111155', ''], ['15Y BGTB 25/09/2028', 'TB15Y0928', '88363', 'BD0928121153', ''], ['15Y BGTB 24/09/2029', 'TB15Y0929', '88390', 'BD0929121152', ''], ['15Y BGTB 23/09/2030', 'TB15Y0930', '88408', 'BD0930121159', ''], ['15Y BGTB 26/09/2033', 'TB15Y0933', '88455', 'BD0933101158', ''], ['15Y BGTB 15/10/2023', 'TB15Y1023', '88260', 'BD0923141156', ''], ['15Y BGTB 14/10/2024', 'TB15Y1024', '88283', 'BD0924141155', ''], ['15Y BGTB 13/10/2025', 'TB15Y1025', '88302', 'BD0925141154', ''], ['15Y BGTB 19/10/2026', 'TB15Y1026', '88319', 'BD0926151152', ''], ['15Y BGTB 17/10/2027', 'TB15Y1027', '88338', 'BD0927151151', ''], ['15Y BGTB 23/10/2028', 'TB15Y1028', '88364', 'BD0928161159', ''], ['15Y BGTB 29/10/2029', 'TB15Y1029', '88392', 'BD0929161158', ''], ['15Y BGTB 12/11/2023', 'TB15Y1123', '88262', 'BD0923181152', ''], ['15Y BGTB 10/11/2025', 'TB15Y1125', '88304', 'BD0925181150', ''], ['15Y BGTB 16/11/2026', 'TB15Y1126', '88321', 'BD0926191158', ''], ['15Y BGTB 21/11/2027', 'TB15Y1127', '88341', 'BD0927191157', ''], ['15Y BGTB 27/11/2028', 'TB15Y1128', '88368', 'BD0928201153', ''], ['15Y BGTB 26/11/2029', 'TB15Y1129', '88393', 'BD0929201152', ''], ['15Y BGTB 28/11/2033', 'TB15Y1133', '88458', 'BD0933141154', ''], ['15Y BGTB 11/12/2023', 'TB15Y1223', '88265', 'BD0923221156', ''], ['15Y BGTB 09/12/2024', 'TB15Y1224', '88285', 'BD0924181151', ''], ['15Y BGTB 15/12/2025', 'TB15Y1225', '88306', 'BD0925221154', ''], ['15Y BGTB 21/12/2026', 'TB15Y1226', '88322', 'BD0926231152', ''], ['15Y BGTB 19/12/2027', 'TB15Y1227', '88343', 'BD0927231151', ''], ['15Y BGTB 26/12/2028', 'TB15Y1228', '88370', 'BD0928241159', ''], ['20Y BGTB 23/01/2028', 'TB20Y0128', '88346', 'BD0928281205', ''], ['20Y BGTB 28/01/2029', 'TB20Y0129', '88371', 'BD0929281204', ''], ['20Y BGTB 26/01/2031', 'TB20Y0131', '88414', 'BD0931281200', ''], ['20Y BGTB 25/01/2032', 'TB20Y0132', '88432', 'BD0932281209', ''], ['20Y BGTB 23/01/2033', 'TB20Y0133', '88446', 'BD0933281208', ''], ['20Y BGTB 29/01/2034', 'TB20Y0134', '88460', 'BD0934281207', ''], ['20Y BGTB 27/02/2028', 'TB20Y0228', '88348', 'BD0928321209', ''], ['20Y BGTB 25/02/2029', 'TB20Y0229', '88373', 'BD0929321208', ''], ['20Y BGTB 24/02/2030', 'TB20Y0230', '88397', 'BD0930251204', ''], ['20Y BGTB 23/02/2031', 'TB20Y0231', '88416', 'BD0931321204', ''], ['20Y BGTB 29/02/2032', 'TB20Y0232', '88433', 'BD0932321203', ''], ['20Y BGTB 27/02/2033', 'TB20Y0233', '88447', 'BD0933321202', ''], ['20Y BGTB 26/02/2034', 'TB20Y0234', '88461', 'BD0934321201', ''], ['20Y BGTB 27/03/2028', 'TB20Y0328', '88350', 'BD0928361205', ''], ['20Y BGTB 25/03/2029', 'TB20Y0329', '88375', 'BD0929361204', ''], ['20Y BGTB 24/03/2030', 'TB20Y0330', '88398', 'BD0930281201', ''], ['20Y BGTB 23/03/2031', 'TB20Y0331', '88417', 'BD0931361200', ''], ['20Y BGTB 28/03/2032', 'TB20Y0332', '88434', 'BD0932361209', ''], ['20Y BGTB 27/03/2033', 'TB20Y0333', '88448', 'BD0933361208', ''], ['20Y BGTB 27/03/2034', 'TB20Y0334', '88462', 'BD0934361207', ''], ['20Y BGTB 30/03/2042', 'TB20Y0342', '88484', 'BD0942781206', ''], ['20Y BGTB 23/04/2028', 'TB20Y0428', '88352', 'BD0928401209', ''], ['20Y BGTB 29/04/2029', 'TB20Y0429', '88379', 'BD0929401208', ''], ['20Y BGTB 28/04/2030', 'TB20Y0430', '88399', 'BD0930321205', ''], ['20Y BGTB 27/04/2031', 'TB20Y0431', '88419', 'BD0931401204', ''], ['20Y BGTB 25/04/2032', 'TB20Y0432', '88435', 'BD0932401203', ''], ['20Y BGTB 24/04/2033', 'TB20Y0433', '88449', 'BD0933401202', ''], ['20Y BGTB 23/04/2034', 'TB20Y0434', '88463', 'BD0934401201', ''], ['20Y BGTB 27/04/2036', 'TB20Y0436', '88475', 'BD0936401209', ''], ['20Y BGTB 28/05/2028', 'TB20Y0528', '88354', 'BD0928441205', ''], ['20Y BGTB 27/05/2029', 'TB20Y0529', '88380', 'BD0929441204', ''], ['20Y BGTB 26/05/2030', 'TB20Y0530', '88401', 'BD0930361201', ''], ['20Y BGTB 25/05/2031', 'TB20Y0531', '88421', 'BD0931441200', ''], ['20Y BGTB 30/05/2032', 'TB20Y0532', '88437', 'BD0932441209', ''], ['20Y BGTB 29/05/2033', 'TB20Y0533', '88450', 'BD0933441208', ''], ['20Y BGTB 28/05/2034', 'TB20Y0534', '88464', 'BD0934441207', ''], ['20Y BGTB 20/05/2040', 'TB20Y0540', '88481', 'BD0940401203', ''], ['20Y BGTB 25/06/2028', 'TB20Y0628', '88357', 'BD0928481201', ''], ['20Y BGTB 24/06/2029', 'TB20Y0629', '88383', 'BD0929481200', ''], ['20Y BGTB 23/06/2030', 'TB20Y0630', '88403', 'BD0930401205', ''], ['20Y BGTB 29/06/2031', 'TB20Y0631', '88422', 'BD0931471207', ''], ['20Y BGTB 27/06/2032', 'TB20Y0632', '88439', 'BD0932481205', ''], ['20Y BGTB 26/06/2033', 'TB20Y0633', '88451', 'BD0933481204', ''], ['20Y BGTB 25/06/2034', 'TB20Y0634', '88465', 'BD0934481203', ''], ['20Y BGTB 26/06/2039', 'TB20Y0639', '88480', 'BD0939391209', ''], ['20Y BGTB 24/06/2040', 'TB20Y0640', '88482', 'BD0940441209', ''], ['20Y BGTB 30/06/2041', 'TB20Y0641', '88483', 'BD0941451207', ''], ['20Y BGTB 29/06/2042', 'TB20Y0642', '88485', 'BD0942901200', ''], ['20Y BGTB 25/07/2027', 'TB20Y0727', '88334', 'BD0927041204', ''], ['20Y BGTB 23/07/2028', 'TB20Y0728', '88358', 'BD0928041203', ''], ['20Y BGTB 29/07/2029', 'TB20Y0729', '88386', 'BD0929041202', ''], ['20Y BGTB 29/07/2030', 'TB20Y0730', '88405', 'BD0930041209', ''], ['20Y BGTB 27/07/2031', 'TB20Y0731', '88424', 'BD0931041208', ''], ['20Y BGTB 25/07/2032', 'TB20Y0732', '88440', 'BD0932041207', ''], ['20Y BGTB 24/07/2033', 'TB20Y0733', '88452', 'BD0933041206', ''], ['20Y BGTB 23/07/2034', 'TB20Y0734', '88466', 'BD0934041205', ''], ['20Y BGTB 29/07/2035', 'TB20Y0735', '88473', 'BD0935041204', ''], ['20Y BGTB 29/08/2027', 'TB20Y0827', '88335', 'BD0927081200', ''], ['20Y BGTB 27/08/2028', 'TB20Y0828', '88360', 'BD0928081209', ''], ['20Y BGTB 26/08/2029', 'TB20Y0829', '88388', 'BD0929081208', ''], ['20Y BGTB 25/08/2030', 'TB20Y0830', '88407', 'BD0930081205', ''], ['20Y BGTB 24/08/2031', 'TB20Y0831', '88425', 'BD0931081204', ''], ['20Y BGTB 29/08/2032', 'TB20Y0832', '88441', 'BD0932081203', ''], ['20Y BGTB 29/08/2033', 'TB20Y0833', '88453', 'BD0933081202', ''], ['20Y BGTB 27/08/2034', 'TB20Y0834', '88467', 'BD0934081201', ''], ['20Y BGTB 26/09/2027', 'TB20Y0927', '88337', 'BD0927121204', ''], ['20Y BGTB 24/09/2028', 'TB20Y0928', '88362', 'BD0928121203', ''], ['20Y BGTB 29/09/2030', 'TB20Y0930', '88409', 'BD0930121209', ''], ['20Y BGTB 28/09/2031', 'TB20Y0931', '88426', 'BD0931121208', ''], ['20Y BGTB 26/09/2032', 'TB20Y0932', '88442', 'BD0932121207', ''], ['20Y BGTB 25/09/2033', 'TB20Y0933', '88454', 'BD0933121206', ''], ['20Y BGTB 24/09/2034', 'TB20Y0934', '88468', 'BD0934121205', ''], ['20Y BGTB 24/10/2027', 'TB20Y1027', '88340', 'BD0927161200', ''], ['20Y BGTB 29/10/2028', 'TB20Y1028', '88365', 'BD0928161209', ''], ['20Y BGTB 28/10/2029', 'TB20Y1029', '88391', 'BD0929161208', ''], ['20Y BGTB 27/10/2030', 'TB20Y1030', '88411', 'BD0930161205', ''], ['20Y BGTB 26/10/2031', 'TB20Y1031', '88428', 'BD0931161204', ''], ['20Y BGTB 25/10/2032', 'TB20Y1032', '88443', 'BD0932161203', ''], ['20Y BGTB 23/10/2033', 'TB20Y1033', '88456', 'BD0933161202', ''], ['20Y BGTB 29/10/2034', 'TB20Y1034', '88469', 'BD0934161201', ''], ['20Y BGTB 28/11/2027', 'TB20Y1127', '88342', 'BD0927201204', ''], ['20Y BGTB 26/11/2028', 'TB20Y1128', '88367', 'BD0928201203', ''], ['20Y BGTB 24/11/2030', 'TB20Y1130', '88412', 'BD0930201209', ''], ['20Y BGTB 23/11/2031', 'TB20Y1131', '88429', 'BD0931201208', ''], ['20Y BGTB 28/11/2032', 'TB20Y1132', '88444', 'BD0932201207', ''], ['20Y BGTB 27/11/2033', 'TB20Y1133', '88457', 'BD0933201206', ''], ['20Y BGTB 26/11/2034', 'TB20Y1134', '88470', 'BD0934201205', ''], ['20Y BGTB 25/11/2035', 'TB20Y1135', '88474', 'BD0935201204', ''], ['20Y BGTB 28/11/2038', 'TB20Y1138', '88479', 'BD0938141209', ''], ['20Y BGTB 26/12/2027', 'TB20Y1227', '88344', 'BD0927241200', ''], ['20Y BGTB 24/12/2028', 'TB20Y1228', '88369', 'BD0928241209', ''], ['20Y BGTB 23/12/2029', 'TB20Y1229', '88395', 'BD0929201202', ''], ['20Y BGTB 29/12/2030', 'TB20Y1230', '88413', 'BD0930241205', ''], ['20Y BGTB 28/12/2031', 'TB20Y1231', '88430', 'BD0931241204', ''], ['20Y BGTB 26/12/2032', 'TB20Y1232', '88445', 'BD0932241203', ''], ['20Y BGTB 26/12/2033', 'TB20Y1233', '88459', 'BD0933241202', ''], ['20Y BGTB 28/12/2042', 'TB20Y1242', '88495', 'BD0942241201', ''], ['2Y BGTB 04/01/2025', 'TB2Y0125', '88492', 'BD0925251029', ''], ['02Y BGTB 09/03/2024', 'TB2Y0324', '88268', 'BD0924751029', ''], ['2Y BGTB 05/03/2025', 'TB2Y0325', '88496', 'SIN:', ''], ['02 Y BGTB 03/05/2025', 'TB2Y0525', '88497', 'SIN:', ''], ['02 Y BGTB 08/06/2024', 'TB2Y0624', '88274', 'BD0924871025', ''], ['02Y BGTB 07/07/2023', 'TB2Y0723', '88253', 'BD0923461026', ''], ['2Y BGTB 06/07/2024', 'TB2Y0724', '88277', 'BD0924011028', ''], ['5Y BGTB 13/07/2027', 'TB2Y0727', '88332', 'BD0927021057', ''], ['02Y BGTB 05/08/2023', 'TB2Y0823', '88257', 'BD0923501029', ''], ['2Y BGTB 06/10/2024', 'TB2Y1024', '88307', 'BD0924131024', ''], ['02Y BGTB 03/11/2023', 'TB2Y1123', '88261', 'BD0923591020', ''], ['05Y BGTB 15/01/2025', 'TB5Y0125', '88288', 'BD0925251052', ''], ['5Y BGTB 11/01/2028', 'TB5Y0128', '88493', 'BD0928261058', ''], ['05Y BGTB 13/03/2024', 'TB5Y0324', '88270', 'BD0924261052', ''], ['05Y BGTB 18/03/2026', 'TB5Y0326', '88310', 'BD0926321052', ''], ['05Y BGTB 16/03/2027', 'TB5Y0327', '88326', 'BD0927761058', ''], ['05Y BGTB 29/04/2025', 'TB5Y0425', '88293', 'BD0925371058', ''], ['05Y BGTB 18/05/2027', 'TB5Y0527', '88329', 'BD0927841058', ''], ['05Y BGTB 12/06/2024', 'TB5Y0624', '88276', 'BD0924371059', ''], ['05Y BGTB 10/06/2025', 'TB5Y0625', '88296', 'BD0925421051', ''], ['05Y BGTB 16/06/2026', 'TB5Y0626', '88314', 'BD0926431059', ''], ['05Y BGTB 11/07/2023', 'TB5Y0723', '88255', 'BD0923021051', ''], ['05Y BGTB 10/07/2024', 'TB5Y0724', '88278', 'BD0924021050', ''], ['05Y BGTB 15/07/2025', 'TB5Y0725', '88298', 'BD0925021059', ''], ['05Y BGTB 15/09/2026', 'TB5Y0926', '88317', 'BD0926541055', ''], ['05Y BGTB 14/10/2025', 'TB5Y1025', '88303', 'BD0925131056', ''], ['05Y BGTB 14/11/2023', 'TB5Y1123', '88263', 'BD0923121059', ''], ['05Y BGTB 10/11/2026', 'TB5Y1126', '88320', 'BD0926601057', ''], ['5Y BGTB 16/11/2027', 'TB5Y1127', '88491', 'SIN:', ''], ['05Y BGTB 11/12/2024', 'TB5Y1224', '88286', 'BD0924211057', ''], ['05Y BGTB 09/12/2025', 'TB5Y1225', '88305', 'BD0925211056', ''], ['Trust Islami Life Insurance Limited', 'TILIL', '25757'], ['Titas Gas Transmission & Dist. Co. Ltd.', 'TITASGAS', '15311'], ['Tosrifa Industries Limited', 'TOSRIFA', '17468'], ['Trust Bank 1st Mutual Fund', 'TRUSTB1MF', '12172'], ['Trust Bank Limited', 'TRUSTBANK', '11145'], ['Tung Hai Knitting & Dyeing Limited', 'TUNGHAI', '17463'], ['United Commercial Bank Ltd.', 'UCB', '11108'], ['Unilever Consumer Care Limited', 'UNILEVERCL', '18454'], ['Union Bank Limited', 'UNIONBANK', '11152'], ['Union Capital Limited', 'UNIONCAP', '11141'], ['Union Insurance Company Limited', 'UNIONINS', '25753'], ['Unique Hotel & Resorts PLC', 'UNIQUEHRL', '29002'], ['United Finance Limited', 'UNITEDFIN', '11113'], ['United Insurance Company Ltd.', 'UNITEDINS', '25703'], ['United Power Generation & Distribution Company Ltd.', 'UPGDCL', '15318'], ['Usmania Glass Sheet Factory Limited', 'USMANIAGL', '99608'], ['Uttara Bank Limited', 'UTTARABANK', '11109'], ['Uttara Finance and Investments Limited', 'UTTARAFIN', '11114'], ['Vanguard AML BD Finance Mutual Fund One', 'VAMLBDMF1', '12197'], ['Vanguard AML Rupali Bank Balanced Fund', 'VAMLRBBF', '12198'], ['VFS Thread Dyeing Limited', 'VFSTDL', '17478'], ['Walton Hi-Tech Industries PLC', 'WALTONHIL', '13248'], ['Wata Chemicals Limited', 'WATACHEM', '18467'], ['Western Marine Shipyard Limited', 'WMSHIPYARD', '13236'], ['Yeakin Polymer Limited', 'YPL', '13241'], ['Zaheen Spinning Limited', 'ZAHEENSPIN', '17467'], ['Zahintex Industries Limited', 'ZAHINTEX', '17452'], ['Zeal Bangla Sugar Mills Ltd.', 'ZEALBANGLA', '14266'], ['First Janata Bank Mutual Fund', '1JANATAMF', '12178'], ['Prime Finance First Mutual Fund', '1STPRIMFMF', '12168']]\n"
          ]
        }
      ]
    },
    {
      "cell_type": "code",
      "source": [
        "company_details_df = pd.DataFrame(company_details, columns =['Company Name', 'Trading Code','Scrip Code','g1','g2'])\n",
        "columns_to_drop = company_details_df[['g1', 'g2']] \n",
        "company_details_df = company_details_df.drop(columns=columns_to_drop)\n",
        "print(company_details_df)"
      ],
      "metadata": {
        "colab": {
          "base_uri": "https://localhost:8080/"
        },
        "id": "oBNpmRGj_Nuo",
        "outputId": "b2ff7e78-fdf2-42af-9997-a4d1a9eb0f6c"
      },
      "execution_count": 45,
      "outputs": [
        {
          "output_type": "stream",
          "name": "stdout",
          "text": [
            "                        Company Name Trading Code Scrip Code\n",
            "0             aamra networks limited     AAMRANET      22649\n",
            "1         aamra technologies limited    AAMRATECH      22647\n",
            "2            AB Bank 1st Mutual fund     ABB1STMF      12189\n",
            "3                    AB Bank Limited       ABBANK      11101\n",
            "4        Aman Cotton Fibrous Limited         ACFL      17477\n",
            "..                               ...          ...        ...\n",
            "650          Zaheen Spinning Limited   ZAHEENSPIN      17467\n",
            "651      Zahintex Industries Limited     ZAHINTEX      17452\n",
            "652     Zeal Bangla Sugar Mills Ltd.   ZEALBANGLA      14266\n",
            "653    First Janata Bank Mutual Fund    1JANATAMF      12178\n",
            "654  Prime Finance First Mutual Fund   1STPRIMFMF      12168\n",
            "\n",
            "[655 rows x 3 columns]\n"
          ]
        }
      ]
    },
    {
      "cell_type": "code",
      "source": [
        "file_path = '/content/company_details.csv'\n",
        "company_details_df.to_csv(file_path, index=False)"
      ],
      "metadata": {
        "id": "BYb53mZWA7l-"
      },
      "execution_count": 46,
      "outputs": []
    },
    {
      "cell_type": "code",
      "source": [
        "com_url = \"https://www.dsebd.org/displayCompany.php?name=AAMRANET\"\n",
        "page = requests.get(com_url)\n",
        "#print(company)\n",
        "soup = BeautifulSoup(page.content, \"html.parser\")"
      ],
      "metadata": {
        "id": "19g8KQQ_4JM3"
      },
      "execution_count": 21,
      "outputs": []
    },
    {
      "cell_type": "code",
      "source": [
        "# compnay_name_h2 = soup.find('h2', {'class': 'BodyHead'})\n",
        "# print(compnay_name_h2)\n",
        "# compnay_name = compnay_name_h2.text.strip()[compnay_name_h2.text.strip().find(\": \") + len(\": \"):]\n",
        "# print(compnay_name)"
      ],
      "metadata": {
        "id": "iVJbgfG89cIW"
      },
      "execution_count": 47,
      "outputs": []
    },
    {
      "cell_type": "code",
      "source": [
        "# compnay_name_table = soup.find('table', {'class': 'shares-table'})\n",
        "# tradin_and_scrip_code = []\n",
        "# for row in compnay_name_table.find_all('tr'):\n",
        "#     row_data = []\n",
        "#     for cell in row.find_all(['th']):\n",
        "#         index = cell.text.strip().find(\": \")\n",
        "#         substring = cell.text.strip()[index + len(\": \"):]\n",
        "#         row_data.append(substring)\n",
        "\n",
        "#     tradin_and_scrip_code.append(row_data)\n",
        "# print(tradin_and_scrip_code)"
      ],
      "metadata": {
        "id": "J_mzmd2w719u"
      },
      "execution_count": 48,
      "outputs": []
    },
    {
      "cell_type": "code",
      "source": [
        "# table = None\n",
        "# tables = soup.find_all(\"table\") \n",
        "# for tbl in tables:\n",
        "#     # You can add additional conditions here to specify the desired table\n",
        "#     # For example, you can check the table's attributes, child elements, or text content\n",
        "\n",
        "#     # Example condition: Check if the table has a specific number of columns\n",
        "#     if len(tbl.find_all(\"th\")) == 3:  # Replace \"th\" with the specific tag name of the table header cells\n",
        "#         table = tbl\n",
        "#         break"
      ],
      "metadata": {
        "id": "7WxG8tj18yQG"
      },
      "execution_count": null,
      "outputs": []
    }
  ]
}